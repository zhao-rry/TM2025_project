{
 "cells": [
  {
   "cell_type": "markdown",
   "id": "95155ead-60d5-449b-88e5-83af88a96aff",
   "metadata": {},
   "source": [
    "<h1> Quantitative Analysis </h1>"
   ]
  },
  {
   "cell_type": "markdown",
   "id": "3476e65f-223d-46e7-b9b3-65378a138c10",
   "metadata": {},
   "source": [
    "---"
   ]
  },
  {
   "cell_type": "markdown",
   "id": "79dd8f20-6949-4bd4-a118-56344e73210f",
   "metadata": {},
   "source": [
    "<h2> Preprocessing Steps </h2>"
   ]
  },
  {
   "cell_type": "markdown",
   "id": "59feb18b-ca3e-44f3-a6b6-5d423176a308",
   "metadata": {},
   "source": [
    "__Step 1:__\n",
    "\n",
    "Read data into Pandas dataframe and examine the data."
   ]
  },
  {
   "cell_type": "code",
   "execution_count": 1,
   "id": "4d4419ed-79bf-462f-8d79-836b7ac158ad",
   "metadata": {},
   "outputs": [
    {
     "name": "stdout",
     "output_type": "stream",
     "text": [
      "    index                                             letter\n",
      "0   arc71  Mercredi 29 septembre 1915\\nMa chère Louisette...\n",
      "1   hl_01  Magnac Laval\\n\\nChère épouse et parents,\\n\\nAu...\n",
      "2   hl_02  Correspondance militaire adressée à monsieur J...\n",
      "3  hl_03a  Chère femme, mes deux gosses ainsi que toute m...\n",
      "4  hl_03b  Chers Mère et frère,\\n\\nTout ce que je vous re... \n",
      "\n",
      "<class 'pandas.core.frame.DataFrame'>\n",
      "RangeIndex: 78 entries, 0 to 77\n",
      "Data columns (total 2 columns):\n",
      " #   Column  Non-Null Count  Dtype \n",
      "---  ------  --------------  ----- \n",
      " 0   index   78 non-null     object\n",
      " 1   letter  78 non-null     object\n",
      "dtypes: object(2)\n",
      "memory usage: 1.3+ KB\n",
      "None\n"
     ]
    }
   ],
   "source": [
    "import numpy as np\n",
    "import pandas as pd\n",
    "import json\n",
    "from pathlib import Path\n",
    "\n",
    "RAW_FILE_PATH = Path.cwd() / \"ww1letters.json\"\n",
    "\n",
    "# we should include metadata such as the year, language, author\n",
    "with open(RAW_FILE_PATH, 'r') as f:\n",
    "    json_data = json.load(f)\n",
    "    indices = json_data.keys()\n",
    "    letters = json_data.values()\n",
    "    raw_data_df = pd.DataFrame({\n",
    "        \"index\": indices,\n",
    "        \"letter\": letters\n",
    "    })\n",
    "\n",
    "print(raw_data_df.head(), \"\\n\")\n",
    "print(raw_data_df.info())"
   ]
  },
  {
   "cell_type": "markdown",
   "id": "2fade4a8-43fd-46d4-bac1-d2e88ee729a7",
   "metadata": {},
   "source": [
    "__Step 2:__\n",
    "\n",
    "Retrieve letters and apply tokenisation, lemmatisation, other steps?\n",
    "\n",
    "We'll also explain more steps here."
   ]
  },
  {
   "cell_type": "code",
   "execution_count": 2,
   "id": "7177ee4a-6f91-4321-b42d-33510e3f966b",
   "metadata": {},
   "outputs": [
    {
     "name": "stdout",
     "output_type": "stream",
     "text": [
      "[('mercredi', 'NOUN'), ('29', 'NUM'), ('septembre', 'NOUN'), ('1915', 'NUM'), ('ma', 'NOUN'), ('chère', 'NOUN'), ('louisette', 'NOUN'), (',', '.'), ('je', 'NOUN'), (\"t'ai\", 'NOUN'), ('promis', 'NOUN'), (',', '.'), ('presque', 'ADJ'), ('solennellement', 'NOUN'), (',', '.'), ('de', 'X'), ('te', 'X'), ('dire', 'NOUN'), ('la', 'NOUN'), ('vérité', 'NOUN'), (';', '.'), ('je', 'CONJ'), ('vais', 'ADJ'), (\"m'exécuter\", 'NOUN'), (',', '.'), ('mais', 'NOUN'), ('en', 'X'), ('revanche', 'NOUN'), ('tu', 'NOUN'), (\"m'as\", 'NOUN'), ('donné', 'NOUN'), (\"l'assurance\", 'NOUN'), ('que', 'NOUN'), ('tu', 'NOUN'), ('aurais', 'NOUN'), ('les', 'VERB'), ('nerfs', 'ADV'), ('solides', 'ADJ'), ('et', 'CONJ'), ('le', 'ADJ'), ('coeur', 'NOUN'), ('ferme', 'NOUN'), ('.', '.'), ('je', 'NOUN'), ('suis', 'NOUN'), ('depuis', 'NOUN'), ('ce', 'NOUN'), ('matin', 'NOUN'), ('dans', 'VERB'), ('des', 'NOUN'), ('tranchées', 'ADJ'), ('conquises', 'NOUN'), ('depuis', 'VERB'), ('2', 'NUM'), ('jours', 'NOUN'), (',', '.'), (\"l'ensemble\", 'ADJ'), ('de', 'X'), ('ces', 'NOUN'), ('tranchées', 'VERB'), ('et', 'X'), ('boyaux', 'ADJ'), ('forme', 'NOUN'), ('un', 'NOUN'), ('véritable', 'ADJ'), ('``', '.'), ('labyrinthe', 'NOUN'), (\"''\", '.'), (',', '.'), ('où', 'X'), (\"j'ai\", 'NOUN'), ('erré', 'VERB'), ('3', 'NUM'), ('heures', 'NOUN'), ('cette', 'ADJ'), ('nuit', 'NOUN'), (',', '.'), ('absolument', 'ADJ'), ('perdu', 'NOUN'), ('.', '.'), ('les', 'NOUN'), ('traces', 'NOUN'), ('de', 'VERB'), ('la', 'X'), ('lutte', 'X'), ('ardente', 'X'), ('y', 'X'), ('sont', 'NOUN'), ('nombreuses', 'NOUN'), ('et', 'VERB'), ('saisissantes', 'NOUN'), (';', '.'), ('et', 'CONJ'), (\"d'abord\", 'NOUN'), ('elles', 'VERB'), ('sont', 'ADJ'), ('plus', 'CONJ'), ('qu', 'ADJ'), (\"'\", '.'), ('à', 'ADJ'), ('moitié', 'NOUN'), ('détruites', 'VERB'), ('par', 'ADJ'), (\"l'ouragan\", 'X'), ('de', 'X'), ('mitraille', 'X'), ('que', 'NOUN'), ('notre', 'X'), ('artillerie', 'NOUN'), ('y', 'PRON'), ('a', 'DET'), ('lancé', 'NOUN'), (',', '.'), ('aussi', 'ADJ'), ('sont-elles', 'NOUN'), ('incommodes', 'NOUN'), ('et', 'VERB'), ('horriblement', 'ADJ'), ('sâles', 'NOUN'), ('malgré', 'VERB'), ('les', 'NOUN'), ('réparations', 'NOUN'), ('urgentes', 'NOUN'), ('que', 'VERB'), ('nous', 'ADJ'), ('y', 'NOUN'), ('avons', 'NOUN'), ('faites', 'VERB'), (';', '.'), ('tout', 'ADP'), ('y', 'NOUN'), ('manque', 'NOUN'), (':', '.'), (\"l'eau\", 'NOUN'), ('(', '.'), ('propre', 'ADJ'), ('ou', 'ADP'), ('sale', 'NOUN'), (')', '.'), (',', '.'), ('les', 'VERB'), ('boyaux', 'NOUN'), (',', '.'), ('les', 'VERB'), ('latrines', 'NOUN'), (';', '.'), ('elles', 'VERB'), ('sont', 'X'), ('à', 'ADJ'), ('moins', 'NOUN'), ('de', 'ADP'), ('200', 'NUM'), ('mètres', 'NOUN'), ('de', 'ADP'), ('la', 'X'), ('1ère', 'NUM'), ('ligne', 'NOUN'), ('ennemie', 'NOUN'), (',', '.'), ('avec', 'X'), ('laquelle', 'X'), ('elles', 'X'), ('communiquent', 'NOUN'), ('par', 'NOUN'), ('des', 'VERB'), ('boyaux', 'ADJ'), ('obturés', 'NOUN'), (';', '.'), ('elles', 'VERB'), ('sont', 'ADJ'), ('parsemées', 'NOUN'), ('de', 'ADP'), ('cadavres', 'NOUN'), ('français', 'VERB'), ('et', 'ADJ'), ('allemands', 'NOUN'), (';', '.'), ('sans', 'NOUN'), ('presque', 'VERB'), ('me', 'PRON'), ('déranger', 'ADJ'), (\"j'en\", 'NOUN'), ('compte', 'NOUN'), ('bien', 'VERB'), ('20', 'NUM'), ('figés', 'NOUN'), ('dans', 'NOUN'), ('les', 'NOUN'), ('attitudes', 'NOUN'), ('les', 'NOUN'), ('plus', 'CONJ'), ('macabres', 'NOUN'), ('.', '.'), ('ce', 'ADJ'), ('voisinage', 'NOUN'), (\"n'est\", 'ADJ'), ('pas', 'NOUN'), ('encore', 'NOUN'), ('nauséabond', 'NOUN'), (',', '.'), ('mais', 'X'), ('il', 'ADJ'), ('fait', 'NOUN'), ('tout', 'NOUN'), ('de', 'ADP'), ('même', 'X'), ('mal', 'ADJ'), ('aux', 'ADJ'), ('yeux', 'NOUN'), (';', '.'), ('ce', 'NOUN'), ('matin', 'NOUN'), (',', '.'), ('à', 'VERB'), ('5', 'NUM'), ('heures', 'NOUN'), (',', '.'), ('nous', 'ADJ'), ('arrivons', 'NOUN'), ('mouillés', 'VERB'), ('et', 'ADJ'), ('harassés', 'NOUN'), (',', '.'), ('et', 'CONJ'), (\"j'entre\", 'NOUN'), ('dans', 'NOUN'), ('le', 'VERB'), ('premier', 'ADJ'), ('abri', 'ADJ'), ('venu', 'NOUN'), ('pour', 'ADP'), ('me', 'PRON'), ('détendre', 'VERB'), (',', '.'), (\"j'avise\", 'NOUN'), ('une', 'ADJ'), ('bonne', 'NOUN'), ('planche', 'NOUN'), (',', '.'), ('m', 'NOUN'), (\"'\", '.'), ('y', 'ADJ'), ('étends', 'NOUN'), (',', '.'), ('la', 'X'), ('trouve', 'NOUN'), ('moelleuse', 'NOUN'), (',', '.'), ('mais', 'X'), ('5', 'NUM'), ('minutes', 'NOUN'), ('après', 'ADJ'), ('je', 'NOUN'), (\"m'aperçois\", 'NOUN'), (\"qu'elle\", 'X'), ('fait', 'NOUN'), ('sommier', 'ADJ'), ('sur', 'ADJ'), ('2', 'NUM'), ('cadavres', 'NOUN'), ('allemands', 'VERB'), (';', '.'), ('et', 'CONJ'), ('bien', 'NOUN'), (',', '.'), ('crois-moi', 'NOUN'), (',', '.'), ('ça', 'NOUN'), ('fait', 'VERB'), ('tout', 'NOUN'), ('de', 'X'), ('même', 'X'), ('quelque', 'NOUN'), ('chose', 'NOUN'), (',', '.'), ('au', 'NOUN'), ('moins', 'NOUN'), ('la', 'VERB'), ('1ère', 'NUM'), ('fois', 'NOUN'), ('.', '.'), ('on', 'ADP'), ('marmite', 'ADJ'), ('fort', 'NOUN'), ('tout', 'ADP'), ('autour', 'X'), ('de', 'X'), ('nous', 'ADJ'), ('et', 'X'), ('vraiment', 'NOUN'), (\"c'est\", 'ADJ'), ('parfois', 'NOUN'), ('un', 'ADJ'), ('vacarme', 'NOUN'), (';', '.'), ('déjà', 'CONJ'), ('je', 'NOUN'), ('ne', 'ADJ'), ('salue', 'NOUN'), ('presque', 'NOUN'), ('plus', 'CONJ'), ('.', '.'), ('le', 'CONJ'), ('mal', 'ADJ'), (\"n'est\", 'ADJ'), ('pas', 'NOUN'), ('là', 'NOUN'), (';', '.'), ('il', 'CONJ'), ('est', 'ADJ'), ('surtout', 'NOUN'), ('dans', 'NOUN'), ('le', 'VERB'), ('temps', 'NOUN'), ('qui', 'ADV'), ('est', 'ADJ'), ('affreux', 'NOUN'), (';', '.'), ('depuis', 'CONJ'), ('3', 'NUM'), ('jours', 'NOUN'), ('au', 'ADJ'), ('moins', 'NOUN'), (',', '.'), ('les', 'NOUN'), ('rafales', 'NOUN'), ('de', 'ADP'), ('pluie', 'X'), ('succèdent', 'ADJ'), ('aux', 'NOUN'), ('averses', 'NOUN'), (';', '.'), ('les', 'VERB'), ('boyaux', 'X'), ('sont', 'NOUN'), ('des', 'NOUN'), ('fondrières', 'VERB'), ('inommables', 'NOUN'), (',', '.'), ('où', 'ADJ'), (\"l'on\", 'NOUN'), ('glisse', 'NOUN'), (',', '.'), ('où', 'ADJ'), (\"l'on\", 'X'), ('se', 'X'), ('crotte', 'NOUN'), ('affreusement', 'NOUN'), (';', '.'), ('aussi', 'CONJ'), ('suis-je', 'ADJ'), ('sâle', 'NOUN'), ('au', 'NOUN'), ('superlatif', 'NOUN'), (',', '.'), ('au', 'NOUN'), ('moins', 'NOUN'), ('jusqu', 'VERB'), (\"'\", '.'), ('à', 'ADJ'), ('la', 'NOUN'), ('ceinture', 'NOUN'), (';', '.'), ('mes', 'CONJ'), ('mains', 'NOUN'), ('sont', 'ADJ'), ('boueuses', 'NOUN'), ('et', 'VERB'), ('les', 'NOUN'), ('resteront', 'VERB'), (\"jusqu'au\", 'ADJ'), ('départ', 'NOUN'), (';', '.'), ('mes', 'CONJ'), ('souliers', 'NOUN'), ('sont', 'VERB'), ('pleins', 'NOUN'), (\"d'eau\", 'VERB'), (';', '.'), ('heureusement', 'ADJ'), ('le', 'NOUN'), ('corps', 'NOUN'), ('est', 'ADJ'), ('sec', 'NOUN'), (',', '.'), ('car', 'NOUN'), (\"l'air\", 'NOUN'), ('est', 'ADJ'), ('presque', 'NOUN'), ('froid', 'NOUN'), ('et', 'NOUN'), ('le', 'NOUN'), ('ciel', 'NOUN'), ('livide', 'NOUN'), ('.', '.'), ('autour', 'NOUN'), ('de', 'ADP'), ('moi', 'X'), ('les', 'NOUN'), ('gens', 'NOUN'), ('font', 'VERB'), ('une', 'ADJ'), ('tête', 'NOUN'), ('!', '.'), ('il', 'NOUN'), ('nous', 'ADJ'), ('faudra', 'ADJ'), ('beaucoup', 'NOUN'), ('de', 'X'), ('patience', 'NOUN'), ('et', 'X'), ('de', 'X'), ('moral', 'X'), ('.', '.'), ('nous', 'ADJ'), ('sommes', 'NOUN'), ('coiffés', 'VERB'), ('du', 'ADJ'), ('nouveau', 'NOUN'), ('casque', 'NOUN'), ('en', 'X'), ('tôle', 'NOUN'), (\"d'acier\", 'NOUN'), (';', '.'), (\"c'est\", 'ADJ'), ('lourd', 'NOUN'), ('et', 'NOUN'), ('incommode', 'NOUN'), (',', '.'), ('mais', 'X'), ('cela', 'NOUN'), ('donne', 'NOUN'), ('une', 'ADJ'), ('sérieuse', 'NOUN'), ('protection', 'NOUN'), ('contre', 'NOUN'), ('les', 'VERB'), ('éclats', 'X'), ('de', 'X'), ('fusants', 'NOUN'), ('et', 'CONJ'), ('contre', 'NOUN'), ('les', 'NOUN'), ('ricochets', 'NOUN'), (',', '.'), ('aussi', 'ADJ'), ('le', 'ADJ'), ('porte-t-on', 'ADJ'), ('sans', 'NOUN'), ('maugréer', 'VERB'), ('.', '.'), ('nous', 'ADJ'), ('avons', 'NOUN'), ('aussi', 'VERB'), ('tout', 'ADP'), ('un', 'ADJ'), ('attirail', 'NOUN'), ('contre', 'NOUN'), ('les', 'VERB'), ('gaz', 'ADJ'), ('asphyxiants', 'NOUN'), ('.', '.'), ('mais', 'VERB'), ('nous', 'ADJ'), ('serons', 'NOUN'), ('mal', 'ADJ'), ('ravitaillés', 'NOUN'), (':', '.'), ('un', 'ADJ'), ('seul', 'NOUN'), ('repas', 'NOUN'), (',', '.'), ('de', 'X'), ('nuit', 'X'), (',', '.'), ('qui', 'X'), ('arrivera', 'NOUN'), ('froid', 'NOUN'), ('le', 'NOUN'), ('plus', 'CONJ'), ('souvent', 'NOUN'), (';', '.'), ('et', 'CONJ'), ('cela', 'VERB'), (\"s'explique\", 'ADJ'), ('à', 'NOUN'), ('la', 'NOUN'), ('fois', 'NOUN'), ('par', 'NOUN'), ('la', 'X'), ('longueur', 'X'), ('des', 'X'), ('boyaux', 'X'), ('et', 'X'), ('par', 'NOUN'), ('la', 'X'), ('difficulté', 'X'), ('de', 'X'), ('parcourir', 'X'), ('une', 'ADJ'), ('large', 'ADJ'), ('zone', 'NOUN'), ('découverte', 'NOUN'), ('.', '.'), ('a', 'DET'), ('ce', 'NOUN'), ('tableau', 'NOUN'), ('un', 'ADJ'), ('peu', 'NOUN'), ('sombre', 'NOUN'), ('mais', 'NOUN'), ('véridique', 'NOUN'), ('il', 'ADJ'), ('convient', 'NOUN'), (\"d'ajouter\", 'NOUN'), ('deux', 'NOUN'), ('correctifs', 'NOUN'), (';', '.'), (\"d'abord\", 'CONJ'), ('nous', 'ADJ'), ('aurons', 'NOUN'), ('un', 'ADJ'), ('rôle', 'NOUN'), ('défensif', 'NOUN'), (',', '.'), ('nous', 'ADJ'), ('sommes', 'NOUN'), ('chargés', 'VERB'), ('de', 'ADP'), ('mettre', 'X'), ('en', 'X'), ('état', 'X'), ('le', 'X'), ('secteur', 'NOUN'), ('très', 'NOUN'), ('bouleversé', 'NOUN'), (';', '.'), ('ensuite', 'CONJ'), ('les', 'VERB'), ('allemands', 'VERB'), ('contre-attaquent', 'ADJ'), ('peu', 'NOUN'), (',', '.'), ('par', 'NOUN'), ('suite', 'NOUN'), ('du', 'NOUN'), ('manque', 'NOUN'), (\"d'effectifs\", 'ADJ'), ('et', 'X'), ('de', 'X'), (\"l'état\", 'X'), ('de', 'X'), ('leurs', 'X'), ('affaires', 'NOUN'), ('en', 'ADP'), ('champagne', 'NOUN'), ('.', '.'), ('pour', 'ADJ'), ('ces', 'NOUN'), ('2', 'NUM'), ('raisons', 'NOUN'), (',', '.'), ('il', 'ADJ'), ('se', 'X'), ('pourrait', 'NOUN'), ('très', 'NOUN'), ('bien', 'NOUN'), ('que', 'NOUN'), ('nous', 'ADJ'), (\"n'ayons\", 'NOUN'), ('pas', 'VERB'), ('à', 'ADJ'), ('les', 'NOUN'), ('regarder', 'VERB'), ('dans', 'NOUN'), ('les', 'NOUN'), ('yeux', 'ADV'), (';', '.'), (\"c'est\", 'ADJ'), (\"d'ailleurs\", 'NOUN'), ('le', 'VERB'), ('voeu', 'ADJ'), ('unanime', 'ADJ'), ('ici', 'NOUN'), ('.', '.'), ('ma', 'NOUN'), ('lettre', 'ADJ'), ('va', 'NOUN'), (\"t'arriver\", 'NOUN'), ('en', 'X'), ('pleine', 'NOUN'), ('période', 'NOUN'), ('de', 'ADP'), ('réinstallation', 'NOUN'), ('et', 'X'), ('de', 'X'), ('soucis', 'X'), (';', '.'), (\"j'essayerai\", 'NOUN'), (\"d'en\", 'NOUN'), ('prendre', 'NOUN'), ('ma', 'ADJ'), ('part', 'NOUN'), ('de', 'ADP'), ('loin', 'X'), (';', '.'), ('cela', 'VERB'), ('me', 'PRON'), ('distraira', 'ADJ'), ('et', 'X'), ('me', 'PRON'), ('fondra', 'VERB'), ('un', 'ADJ'), ('peu', 'NOUN'), ('plus', 'CONJ'), ('avec', 'ADJ'), ('vous', 'ADJ'), ('.', '.'), ('je', 'NOUN'), ('te', 'NOUN'), ('souhaite', 'NOUN'), ('du', 'NOUN'), ('calme', 'NOUN'), ('et', 'X'), ('du', 'ADJ'), ('courage', 'NOUN'), ('pour', 'VERB'), ('triompher', 'NOUN'), ('de', 'X'), ('ces', 'NOUN'), ('petites', 'VERB'), ('difficultés', 'NOUN'), ('.', '.'), ('tu', 'NOUN'), ('sais', 'ADJ'), ('combien', 'NOUN'), ('je', 'NOUN'), (\"t'aime\", 'NOUN'), ('et', 'NOUN'), ('quels', 'NOUN'), ('tendres', 'VERB'), ('baisers', 'NOUN'), ('je', 'ADJ'), (\"t'envoie\", 'NOUN'), (',', '.'), ('partage', 'NOUN'), ('avec', 'ADJ'), ('nos', 'ADJ'), ('chers', 'NOUN'), ('petits', 'NOUN'), ('.', '.'), ('(', '.'), ('signé', 'NOUN'), (')', '.'), ('déléage', 'NOUN'), ('p.s', 'NOUN'), ('.', '.'), (\"j'approuve\", 'NOUN'), ('absolument', 'ADJ'), ('ta', 'NOUN'), ('décision', 'NOUN'), ('relative', 'ADJ'), ('à', 'NOUN'), ('la', 'NOUN'), ('gentille', 'X'), ('offre', 'X'), ('de', 'X'), ('catherine', 'NOUN'), ('.', '.')]\n"
     ]
    }
   ],
   "source": [
    "import nltk\n",
    "\n",
    "STEMMER = nltk.stem.WordNetLemmatizer()\n",
    "letters_preprocessed = []\n",
    "\n",
    "for letter in letters:\n",
    "    letter_tokens = nltk.tokenize.word_tokenize(letter.lower())\n",
    "    letter_tagged = nltk.pos_tag(letter_tokens, tagset = \"universal\")\n",
    "    print(letter_tagged)\n",
    "    break\n",
    "    # running into a language problem already\n",
    "    '''for i, token in enumerate(letter_tagged):\n",
    "        pass'''"
   ]
  }
 ],
 "metadata": {
  "kernelspec": {
   "display_name": "Python 3 (ipykernel)",
   "language": "python",
   "name": "python3"
  },
  "language_info": {
   "codemirror_mode": {
    "name": "ipython",
    "version": 3
   },
   "file_extension": ".py",
   "mimetype": "text/x-python",
   "name": "python",
   "nbconvert_exporter": "python",
   "pygments_lexer": "ipython3",
   "version": "3.11.7"
  }
 },
 "nbformat": 4,
 "nbformat_minor": 5
}
